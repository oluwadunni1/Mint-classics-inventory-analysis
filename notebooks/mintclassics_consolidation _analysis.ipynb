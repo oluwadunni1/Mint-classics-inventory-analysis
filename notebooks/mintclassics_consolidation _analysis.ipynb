{
 "cells": [
  {
   "cell_type": "markdown",
   "id": "3dc7673b-7c47-45c5-8308-7123605d7d83",
   "metadata": {},
   "source": [
    "## Mintclassics Analysis with Python"
   ]
  },
  {
   "cell_type": "markdown",
   "id": "0dd3a186-2f14-4c86-b2de-e55eb4445be3",
   "metadata": {},
   "source": [
    "This notebook presents a data-driven evaluation of warehouse performance for Mint Classics, aimed at identifying opportunities for warehouse consolidation and inventory optimization.\n",
    "Data was extracted from the company's MySQL database, then imported and analyzed using Python.\n",
    "\n",
    "The analysis covers:\n",
    "\n",
    "- Revenue contributions by warehouse\n",
    "\n",
    "- Delivery time performance across warehouses\n",
    "\n",
    "- Stock utilization and understocked/overstocked product detection\n",
    "\n",
    "- Statistical testing to assess warehouse-level differences\n",
    "\n",
    "This comprehensive evaluation supports evidence-based decisions around inventory rearrangement and warehouse consolidation."
   ]
  },
  {
   "cell_type": "markdown",
   "id": "9253acaa-cfbc-44a7-a867-d44623cfeb73",
   "metadata": {},
   "source": [
    "#### Import packages "
   ]
  },
  {
   "cell_type": "code",
   "execution_count": 4,
   "id": "d2aa429c-4972-4d4d-9718-4f36ec0fa9fe",
   "metadata": {},
   "outputs": [],
   "source": [
    "# Import libraries and packages \n",
    "import pandas as pd\n",
    "import seaborn as sns\n",
    "import numpy as np\n",
    "import os\n",
    "from scipy.stats import levene\n",
    "from scipy.stats import kruskal\n",
    "import scikit_posthocs as sp\n",
    "import scipy.stats as stats\n",
    "import matplotlib.pyplot as plt\n",
    "from statsmodels.formula.api import ols\n",
    "import statsmodels.api as sm\n",
    "from statsmodels.stats.multicomp import pairwise_tukeyhsd\n"
   ]
  },
  {
   "cell_type": "markdown",
   "id": "2e171be1-60bc-4667-84c5-29d58652626d",
   "metadata": {},
   "source": [
    "#### Capacity Utilization by warehouse \n"
   ]
  },
  {
   "cell_type": "markdown",
   "id": "0bc16d07-a799-4458-a8cb-f9b4b5d82bac",
   "metadata": {},
   "source": [
    " This section analyzes the physical capacity currently utilized by each warehouse. The summary table illustrates the percentage of capacity used up by each warehouse "
   ]
  },
  {
   "cell_type": "code",
   "execution_count": 138,
   "id": "f6a79706-6f2d-4c6c-b95e-6ac235c7ecc6",
   "metadata": {},
   "outputs": [
    {
     "data": {
      "text/html": [
       "<div>\n",
       "<style scoped>\n",
       "    .dataframe tbody tr th:only-of-type {\n",
       "        vertical-align: middle;\n",
       "    }\n",
       "\n",
       "    .dataframe tbody tr th {\n",
       "        vertical-align: top;\n",
       "    }\n",
       "\n",
       "    .dataframe thead th {\n",
       "        text-align: right;\n",
       "    }\n",
       "</style>\n",
       "<table border=\"1\" class=\"dataframe\">\n",
       "  <thead>\n",
       "    <tr style=\"text-align: right;\">\n",
       "      <th></th>\n",
       "      <th>warehouseCode</th>\n",
       "      <th>warehouseName</th>\n",
       "      <th>warehousePctCap</th>\n",
       "    </tr>\n",
       "  </thead>\n",
       "  <tbody>\n",
       "    <tr>\n",
       "      <th>0</th>\n",
       "      <td>a</td>\n",
       "      <td>North</td>\n",
       "      <td>72</td>\n",
       "    </tr>\n",
       "    <tr>\n",
       "      <th>1</th>\n",
       "      <td>b</td>\n",
       "      <td>East</td>\n",
       "      <td>67</td>\n",
       "    </tr>\n",
       "    <tr>\n",
       "      <th>2</th>\n",
       "      <td>c</td>\n",
       "      <td>West</td>\n",
       "      <td>50</td>\n",
       "    </tr>\n",
       "    <tr>\n",
       "      <th>3</th>\n",
       "      <td>d</td>\n",
       "      <td>South</td>\n",
       "      <td>75</td>\n",
       "    </tr>\n",
       "  </tbody>\n",
       "</table>\n",
       "</div>"
      ],
      "text/plain": [
       "  warehouseCode warehouseName  warehousePctCap\n",
       "0             a         North               72\n",
       "1             b          East               67\n",
       "2             c          West               50\n",
       "3             d         South               75"
      ]
     },
     "execution_count": 138,
     "metadata": {},
     "output_type": "execute_result"
    }
   ],
   "source": [
    "df0 = pd.read_csv(\"../Data/warehouse_utilization_result.csv\")\n",
    "df0"
   ]
  },
  {
   "cell_type": "markdown",
   "id": "a7f3e144-cd93-4660-8fac-49d9d78f1662",
   "metadata": {},
   "source": [
    "Capacity utilization varies notably across the warehouse network. Warehouses West (C) and East (B) show substantial unused capacity, while North (A) and South (D) operate closer to their limits. This distribution indicates that consolidating the West warehouse’s inventory into the remaining facilities could be achieved without exceeding their capacity. Furthermore, when viewed alongside other operational metrics, the West also emerges as a strong candidate to absorb additional inventory from any warehouse selected for consolidation."
   ]
  },
  {
   "cell_type": "markdown",
   "id": "48149eca-39a8-403d-ade9-fce1728c641d",
   "metadata": {},
   "source": [
    "#### Revenue Contribution by warehouse"
   ]
  },
  {
   "cell_type": "markdown",
   "id": "dbbbb0ab-4b78-4c07-bfc0-819ef17a368e",
   "metadata": {},
   "source": [
    "This section provides a comparative analysis of monthly revenue performance across Mint Classics' distribution warehouses. Leveraging transaction-level data aggregated by `order_month` and `warehouseCode`,revenue trends were evaluated to uncover disparities in warehouse contribution."
   ]
  },
  {
   "cell_type": "code",
   "execution_count": 154,
   "id": "adbbaa51-0cdc-4088-a206-c3ad2940dc4c",
   "metadata": {},
   "outputs": [],
   "source": [
    "# load data \n",
    "df = pd.read_csv(\"../Data/monthly_revenue.csv\")"
   ]
  },
  {
   "cell_type": "code",
   "execution_count": 8,
   "id": "321297a8-cbad-4b72-b59a-2bc251ba336f",
   "metadata": {},
   "outputs": [
    {
     "data": {
      "text/html": [
       "<div>\n",
       "<style scoped>\n",
       "    .dataframe tbody tr th:only-of-type {\n",
       "        vertical-align: middle;\n",
       "    }\n",
       "\n",
       "    .dataframe tbody tr th {\n",
       "        vertical-align: top;\n",
       "    }\n",
       "\n",
       "    .dataframe thead th {\n",
       "        text-align: right;\n",
       "    }\n",
       "</style>\n",
       "<table border=\"1\" class=\"dataframe\">\n",
       "  <thead>\n",
       "    <tr style=\"text-align: right;\">\n",
       "      <th></th>\n",
       "      <th>order_month</th>\n",
       "      <th>warehouseCode</th>\n",
       "      <th>monthly_revenue</th>\n",
       "    </tr>\n",
       "  </thead>\n",
       "  <tbody>\n",
       "    <tr>\n",
       "      <th>0</th>\n",
       "      <td>2003-01</td>\n",
       "      <td>a</td>\n",
       "      <td>0.00</td>\n",
       "    </tr>\n",
       "    <tr>\n",
       "      <th>1</th>\n",
       "      <td>2003-01</td>\n",
       "      <td>b</td>\n",
       "      <td>36552.33</td>\n",
       "    </tr>\n",
       "    <tr>\n",
       "      <th>2</th>\n",
       "      <td>2003-01</td>\n",
       "      <td>c</td>\n",
       "      <td>40950.66</td>\n",
       "    </tr>\n",
       "    <tr>\n",
       "      <th>3</th>\n",
       "      <td>2003-01</td>\n",
       "      <td>d</td>\n",
       "      <td>39189.78</td>\n",
       "    </tr>\n",
       "    <tr>\n",
       "      <th>4</th>\n",
       "      <td>2003-02</td>\n",
       "      <td>a</td>\n",
       "      <td>59428.89</td>\n",
       "    </tr>\n",
       "  </tbody>\n",
       "</table>\n",
       "</div>"
      ],
      "text/plain": [
       "  order_month warehouseCode  monthly_revenue\n",
       "0     2003-01             a             0.00\n",
       "1     2003-01             b         36552.33\n",
       "2     2003-01             c         40950.66\n",
       "3     2003-01             d         39189.78\n",
       "4     2003-02             a         59428.89"
      ]
     },
     "execution_count": 8,
     "metadata": {},
     "output_type": "execute_result"
    }
   ],
   "source": [
    "# Inspect first 5 rows of the dataset\n",
    "df.head()"
   ]
  },
  {
   "cell_type": "code",
   "execution_count": 9,
   "id": "37d4b71e-5247-4468-a8b1-27d679c5b2aa",
   "metadata": {},
   "outputs": [
    {
     "data": {
      "text/plain": [
       "(116, 3)"
      ]
     },
     "execution_count": 9,
     "metadata": {},
     "output_type": "execute_result"
    }
   ],
   "source": [
    "# Obtain counts of rows and columns \n",
    "df.shape"
   ]
  },
  {
   "cell_type": "markdown",
   "id": "1add2f29-f292-41d1-a94e-d0bd3d112daf",
   "metadata": {},
   "source": [
    "Prior to statistical inference, diagnostic checks were conducted to confirm underlying assumptions of normality and variance homogeneity."
   ]
  },
  {
   "cell_type": "code",
   "execution_count": 11,
   "id": "60f2842d-fbb0-4175-b4f7-efd1e11ceb35",
   "metadata": {},
   "outputs": [
    {
     "data": {
      "text/plain": [
       "Text(0.5, 1.0, 'Monthly Revenue Distribution by Warehouse')"
      ]
     },
     "execution_count": 11,
     "metadata": {},
     "output_type": "execute_result"
    },
    {
     "data": {
      "image/png": "[encoded data removed]",
      "text/plain": [
       "<Figure size 400x400 with 1 Axes>"
      ]
     },
     "metadata": {},
     "output_type": "display_data"
    }
   ],
   "source": [
    "# Create boxplot to show distribution of monthly_revenue by warehouse\n",
    "plt.figure(figsize=(4,4))\n",
    "sns.boxplot(x = \"warehouseCode\", y = \"monthly_revenue\", data = df)\n",
    "plt.title(\"Monthly Revenue Distribution by Warehouse\")\n"
   ]
  },
  {
   "cell_type": "markdown",
   "id": "e69a55a0-a2f1-4f31-a46b-10a21d5e856b",
   "metadata": {},
   "source": [
    "##### Levene's test for homogenuity of variances "
   ]
  },
  {
   "cell_type": "markdown",
   "id": "72f47fec-7a37-463a-af90-9f0754464e5c",
   "metadata": {},
   "source": [
    "This test checks whether the variance of `monthly_revenue` across warehouses is statistically equal.\n",
    "\n",
    "- Null hypothesis $H_0$,  The variances of `monthly_revenue` are equal across all the `warehouseCode` groups. \n",
    "- Alternative hypothesis $H_1$, At least one `warehouseCode` group has a significantly different variance of `monthly_revenue`.\n",
    "- Significance Level (α): **0.05**"
   ]
  },
  {
   "cell_type": "code",
   "execution_count": 14,
   "id": "71dc79ac-75cd-4a94-b565-b8272d7a196d",
   "metadata": {},
   "outputs": [
    {
     "name": "stdout",
     "output_type": "stream",
     "text": [
      "Levene's test p-value: 0.0328851314590923\n",
      "❌ Variances are significantly different.\n"
     ]
    }
   ],
   "source": [
    "# group by dataframe by warehousecode\n",
    "grouped_data = [group[\"monthly_revenue\"].values for name, group in df.groupby(\"warehouseCode\")]\n",
    "\n",
    "# Levene's test\n",
    "stat, p = levene(*grouped_data)\n",
    "\n",
    "print(\"Levene's test p-value:\", p)\n",
    "if p < 0.05:\n",
    "    print(\"❌ Variances are significantly different.\")\n",
    "else:\n",
    "    print(\"✅ Variances are equal — assumption met.\")"
   ]
  },
  {
   "cell_type": "markdown",
   "id": "9ff9942c-f152-4591-b437-09005bdbcf6c",
   "metadata": {},
   "source": [
    "Since the p-value (0.032885) is less than the chosen significance level (α=0.05), we reject the null hypothesis ($H_0$\n",
    "​\n",
    " ). This indicates that there is statistically significant evidence to conclude that the variances of `monthly_revenue` are not equal across the different warehouses.\n",
    "\n",
    " The violation of the homogeneity of variances assumption means that a standard One-Way ANOVA is not appropriate for comparing the means of `monthly_revenue` between warehouses. Therefore, we proceeded with a robust alternative that does not require this assumption."
   ]
  },
  {
   "cell_type": "markdown",
   "id": "3d8b3c2b-2021-415c-b480-4ea414a58f4e",
   "metadata": {},
   "source": [
    "##### Kruskal-Wallis H-Test "
   ]
  },
  {
   "cell_type": "markdown",
   "id": "2e395769-5232-4ec8-bbe3-50012404be9f",
   "metadata": {},
   "source": [
    "Given the rejection of the null hypothesis for homogeneity of variances, we opted for Kruskal-Wallis H-test to compare the median `monthly_revenue` across the warehouses. This test is robust to unequal variances, and does not assume normality of the data providing a more reliable assessment of group differences under these conditions.\n",
    "\n",
    "- Null hypothesis $H_0$,  The population median `monthly_revenue` are equal across all the `warehouseCode` groups. \n",
    "- Alternative hypothesis $H_1$, At least one `warehouseCode` group has a significantly different  population median of `monthly_revenue`.\n",
    "- Significance Level (α): **0.05**"
   ]
  },
  {
   "cell_type": "code",
   "execution_count": 18,
   "id": "223a6cda-f8e6-4b5d-9134-c346305da98c",
   "metadata": {},
   "outputs": [
    {
     "name": "stdout",
     "output_type": "stream",
     "text": [
      "Kruskal-Wallis p-value: 9.585494655167861e-05\n"
     ]
    }
   ],
   "source": [
    "# Group revenue values per warehouse\n",
    "grouped_data = [group[\"monthly_revenue\"].values for _, group in df.groupby(\"warehouseCode\")]\n",
    "\n",
    "# Kruskal-Wallis test\n",
    "stat, p = kruskal(*grouped_data)\n",
    "print(\"Kruskal-Wallis p-value:\", p)"
   ]
  },
  {
   "cell_type": "markdown",
   "id": "a46038e5-13e5-4da5-822e-3e4b10a028c3",
   "metadata": {},
   "source": [
    "Based on the Kruskal-Wallis H-test, with a p-value of 0.00009585 (which is far less than α=0.05), we reject the null hypothesis $H_0$. This implies there is strong statistical evidence to conclude that at least one warehouse has a significantly different population median monthly_revenue compared to the others.\n",
    "\n",
    "Post-hoc tests are carried out to investigate the pairwise relationships between the warehouses "
   ]
  },
  {
   "cell_type": "markdown",
   "id": "53313429-6cb5-4714-9b39-4e29e27292f2",
   "metadata": {},
   "source": [
    "##### Pairwise Dunn's test\n",
    "\n",
    "Following the significant result from the Kruskal-Wallis H-test, Dunn's post-hoc pairwise comparisons were conducted to identify which specific warehouse pairs exhibited statistically significant differences in their population median monthly_revenue. A significance level of \n",
    "alpha=0.05 was used for these comparisons"
   ]
  },
  {
   "cell_type": "code",
   "execution_count": 21,
   "id": "dcec94c8-3fad-4ae0-ba2d-592c5a5354ff",
   "metadata": {},
   "outputs": [
    {
     "data": {
      "text/html": [
       "<div>\n",
       "<style scoped>\n",
       "    .dataframe tbody tr th:only-of-type {\n",
       "        vertical-align: middle;\n",
       "    }\n",
       "\n",
       "    .dataframe tbody tr th {\n",
       "        vertical-align: top;\n",
       "    }\n",
       "\n",
       "    .dataframe thead th {\n",
       "        text-align: right;\n",
       "    }\n",
       "</style>\n",
       "<table border=\"1\" class=\"dataframe\">\n",
       "  <thead>\n",
       "    <tr style=\"text-align: right;\">\n",
       "      <th></th>\n",
       "      <th>a</th>\n",
       "      <th>b</th>\n",
       "      <th>c</th>\n",
       "      <th>d</th>\n",
       "    </tr>\n",
       "  </thead>\n",
       "  <tbody>\n",
       "    <tr>\n",
       "      <th>a</th>\n",
       "      <td>1.000000</td>\n",
       "      <td>0.006278</td>\n",
       "      <td>1.000000</td>\n",
       "      <td>1.000000</td>\n",
       "    </tr>\n",
       "    <tr>\n",
       "      <th>b</th>\n",
       "      <td>0.006278</td>\n",
       "      <td>1.000000</td>\n",
       "      <td>0.000498</td>\n",
       "      <td>0.000544</td>\n",
       "    </tr>\n",
       "    <tr>\n",
       "      <th>c</th>\n",
       "      <td>1.000000</td>\n",
       "      <td>0.000498</td>\n",
       "      <td>1.000000</td>\n",
       "      <td>1.000000</td>\n",
       "    </tr>\n",
       "    <tr>\n",
       "      <th>d</th>\n",
       "      <td>1.000000</td>\n",
       "      <td>0.000544</td>\n",
       "      <td>1.000000</td>\n",
       "      <td>1.000000</td>\n",
       "    </tr>\n",
       "  </tbody>\n",
       "</table>\n",
       "</div>"
      ],
      "text/plain": [
       "          a         b         c         d\n",
       "a  1.000000  0.006278  1.000000  1.000000\n",
       "b  0.006278  1.000000  0.000498  0.000544\n",
       "c  1.000000  0.000498  1.000000  1.000000\n",
       "d  1.000000  0.000544  1.000000  1.000000"
      ]
     },
     "execution_count": 21,
     "metadata": {},
     "output_type": "execute_result"
    }
   ],
   "source": [
    "# Dunn’s test with Bonferroni correction\n",
    "sp.posthoc_dunn(df, val_col='monthly_revenue', group_col='warehouseCode', p_adjust='bonferroni')"
   ]
  },
  {
   "cell_type": "code",
   "execution_count": 22,
   "id": "b817b8d2-d7e0-468f-b67a-4a6b277be713",
   "metadata": {},
   "outputs": [
    {
     "data": {
      "text/plain": [
       "warehouseCode\n",
       "c     55499.83\n",
       "d     58439.14\n",
       "a     59428.89\n",
       "b    116763.05\n",
       "Name: monthly_revenue, dtype: float64"
      ]
     },
     "execution_count": 22,
     "metadata": {},
     "output_type": "execute_result"
    }
   ],
   "source": [
    "#obtain medians across warehouses \n",
    "df.groupby(\"warehouseCode\")[\"monthly_revenue\"].median().sort_values()"
   ]
  },
  {
   "cell_type": "markdown",
   "id": "8ec52889-9012-44d7-ad75-119b1f2d79dd",
   "metadata": {},
   "source": [
    "The pairwise comparisons reveal that Warehouse B (West) exhibits a statistically significant difference in its monthly_revenue pattern when compared to Warehouses A, C, and D. Further inspection of the warehouse medians confirms that Warehouse B (West) contributes the highest median monthly_revenue. This robust performance makes Warehouse B a strong candidate for retention rather than consolidation based on revenue generated . Conversely, as Warehouses A, C, and D show no significant differences in their median monthly_revenue, their suitability for consolidation should be primarily determined by an evaluation of other critical performance metrics.\n",
    "\n",
    "\n",
    "\n",
    "\n",
    "  \n"
   ]
  },
  {
   "cell_type": "markdown",
   "id": "9dbb3c3a-e5cd-43f9-a485-e09819b76125",
   "metadata": {},
   "source": [
    "#### Delivery Performance Analysis"
   ]
  },
  {
   "cell_type": "markdown",
   "id": "427bb49a-1d8e-4ccf-8b55-8488a752384c",
   "metadata": {},
   "source": [
    "This section assesses the delivery efficiency of Mint Classics' warehouses by analyzing delivery times across fulfillment locations. Timely deliveries are critical to customer satisfaction and operational excellence, making this metric a key input in warehouse consolidation decisions. The objective is to identify which warehouses consistently meet or exceed delivery expectations and which ones underperform, thereby informing decisions about which facilities may be retained or consolidated. \n",
    "\n",
    "The necessary delivery data was extracted directly from the database through carefully structured joins across relevant tables, including `orders`, `orderdetails`, and `products`. A new key performance indicator, 'delivery margin', was specifically derived for this analysis. This metric quantifies the number of days a delivery was completed relative to the required delivery date (e.g., a positive value indicates delivery before the required date, while a negative value signifies a delay). This `delivery margin` metric serves as the foundational basis for comparing delivery performance across all warehouses.\n"
   ]
  },
  {
   "cell_type": "code",
   "execution_count": 26,
   "id": "1739a754-d6c8-4d34-8856-3aac72d84fbb",
   "metadata": {},
   "outputs": [],
   "source": [
    "#load dataset \n",
    "df1 = pd.read_csv(\"../Data/delivery_analysis.csv\")"
   ]
  },
  {
   "cell_type": "code",
   "execution_count": 27,
   "id": "5960c107-4c77-4fb5-a0fb-1008e11bfd8f",
   "metadata": {},
   "outputs": [
    {
     "data": {
      "text/html": [
       "<div>\n",
       "<style scoped>\n",
       "    .dataframe tbody tr th:only-of-type {\n",
       "        vertical-align: middle;\n",
       "    }\n",
       "\n",
       "    .dataframe tbody tr th {\n",
       "        vertical-align: top;\n",
       "    }\n",
       "\n",
       "    .dataframe thead th {\n",
       "        text-align: right;\n",
       "    }\n",
       "</style>\n",
       "<table border=\"1\" class=\"dataframe\">\n",
       "  <thead>\n",
       "    <tr style=\"text-align: right;\">\n",
       "      <th></th>\n",
       "      <th>orderNumber</th>\n",
       "      <th>warehouseCode</th>\n",
       "      <th>shippedDate</th>\n",
       "      <th>requiredDate</th>\n",
       "      <th>orderDate</th>\n",
       "      <th>delivery_margin_days</th>\n",
       "    </tr>\n",
       "  </thead>\n",
       "  <tbody>\n",
       "    <tr>\n",
       "      <th>0</th>\n",
       "      <td>10100</td>\n",
       "      <td>c</td>\n",
       "      <td>2003-01-10</td>\n",
       "      <td>2003-01-13</td>\n",
       "      <td>2003-01-06</td>\n",
       "      <td>3</td>\n",
       "    </tr>\n",
       "    <tr>\n",
       "      <th>1</th>\n",
       "      <td>10100</td>\n",
       "      <td>c</td>\n",
       "      <td>2003-01-10</td>\n",
       "      <td>2003-01-13</td>\n",
       "      <td>2003-01-06</td>\n",
       "      <td>3</td>\n",
       "    </tr>\n",
       "    <tr>\n",
       "      <th>2</th>\n",
       "      <td>10100</td>\n",
       "      <td>c</td>\n",
       "      <td>2003-01-10</td>\n",
       "      <td>2003-01-13</td>\n",
       "      <td>2003-01-06</td>\n",
       "      <td>3</td>\n",
       "    </tr>\n",
       "    <tr>\n",
       "      <th>3</th>\n",
       "      <td>10100</td>\n",
       "      <td>c</td>\n",
       "      <td>2003-01-10</td>\n",
       "      <td>2003-01-13</td>\n",
       "      <td>2003-01-06</td>\n",
       "      <td>3</td>\n",
       "    </tr>\n",
       "    <tr>\n",
       "      <th>4</th>\n",
       "      <td>10101</td>\n",
       "      <td>c</td>\n",
       "      <td>2003-01-11</td>\n",
       "      <td>2003-01-18</td>\n",
       "      <td>2003-01-09</td>\n",
       "      <td>7</td>\n",
       "    </tr>\n",
       "  </tbody>\n",
       "</table>\n",
       "</div>"
      ],
      "text/plain": [
       "   orderNumber warehouseCode shippedDate requiredDate   orderDate  \\\n",
       "0        10100             c  2003-01-10   2003-01-13  2003-01-06   \n",
       "1        10100             c  2003-01-10   2003-01-13  2003-01-06   \n",
       "2        10100             c  2003-01-10   2003-01-13  2003-01-06   \n",
       "3        10100             c  2003-01-10   2003-01-13  2003-01-06   \n",
       "4        10101             c  2003-01-11   2003-01-18  2003-01-09   \n",
       "\n",
       "   delivery_margin_days  \n",
       "0                     3  \n",
       "1                     3  \n",
       "2                     3  \n",
       "3                     3  \n",
       "4                     7  "
      ]
     },
     "execution_count": 27,
     "metadata": {},
     "output_type": "execute_result"
    }
   ],
   "source": [
    "#inspect first 5 rows of the dataset \n",
    "df1.head()"
   ]
  },
  {
   "cell_type": "code",
   "execution_count": 28,
   "id": "ed8a8458-7875-4ee2-91d0-fcddb6b4b740",
   "metadata": {},
   "outputs": [
    {
     "data": {
      "text/plain": [
       "(2855, 6)"
      ]
     },
     "execution_count": 28,
     "metadata": {},
     "output_type": "execute_result"
    }
   ],
   "source": [
    "df1.shape"
   ]
  },
  {
   "cell_type": "code",
   "execution_count": 29,
   "id": "4a903f31-5ee0-4d6a-b361-80ab4befbf0d",
   "metadata": {},
   "outputs": [
    {
     "data": {
      "text/plain": [
       "<Axes: xlabel='warehouseCode', ylabel='delivery_margin_days'>"
      ]
     },
     "execution_count": 29,
     "metadata": {},
     "output_type": "execute_result"
    },
    {
     "data": {
      "image/png": "[encoded data removed]",
      "text/plain": [
       "<Figure size 400x400 with 1 Axes>"
      ]
     },
     "metadata": {},
     "output_type": "display_data"
    }
   ],
   "source": [
    "# create boxplot to show distribution of delivery_margin across warehouses\n",
    "plt.figure(figsize=(4,4))\n",
    "sns.boxplot(x = \"warehouseCode\", y = \"delivery_margin_days\", data = df1)\n"
   ]
  },
  {
   "cell_type": "markdown",
   "id": "1752d66a-f10a-46fa-b50f-a4a0b6c780d7",
   "metadata": {},
   "source": [
    "\n",
    "\n",
    "\n",
    "\n",
    "The box plot helped identify a small cluster of outliers representing orders with delays exceeding 50 days. To determine the root cause of these anomalies, a direct query of the orders table was conducted, focusing on orderNumber, orderDate, status, and comments. This investigation revealed that all such outlier orders originated from a single customer on a specific date, with an associated comment indicating customer credit limit issues as the primary cause, rather than logistical or operational delays. As a result, these orders were excluded from the delivery efficiency analysis to prevent distortion and ensure the focus remained on evaluating warehouse logistics performance.\n",
    "\n",
    "\n"
   ]
  },
  {
   "cell_type": "code",
   "execution_count": 31,
   "id": "d0500474-b7d2-4933-ab6f-fed36e42db59",
   "metadata": {},
   "outputs": [],
   "source": [
    "## filter out outliers \n",
    "outliers = df1[df1['orderNumber'] == 10165]\n",
    "df1_filtered = df1[df1['orderNumber'] != 10165]\n"
   ]
  },
  {
   "cell_type": "code",
   "execution_count": 32,
   "id": "85be7e08-b35b-4e4c-8643-66c0bb3de12c",
   "metadata": {},
   "outputs": [
    {
     "data": {
      "text/html": [
       "<div>\n",
       "<style scoped>\n",
       "    .dataframe tbody tr th:only-of-type {\n",
       "        vertical-align: middle;\n",
       "    }\n",
       "\n",
       "    .dataframe tbody tr th {\n",
       "        vertical-align: top;\n",
       "    }\n",
       "\n",
       "    .dataframe thead th {\n",
       "        text-align: right;\n",
       "    }\n",
       "</style>\n",
       "<table border=\"1\" class=\"dataframe\">\n",
       "  <thead>\n",
       "    <tr style=\"text-align: right;\">\n",
       "      <th></th>\n",
       "      <th>orderNumber</th>\n",
       "      <th>warehouseCode</th>\n",
       "      <th>shippedDate</th>\n",
       "      <th>requiredDate</th>\n",
       "      <th>orderDate</th>\n",
       "      <th>delivery_margin_days</th>\n",
       "    </tr>\n",
       "  </thead>\n",
       "  <tbody>\n",
       "    <tr>\n",
       "      <th>0</th>\n",
       "      <td>10100</td>\n",
       "      <td>c</td>\n",
       "      <td>2003-01-10</td>\n",
       "      <td>2003-01-13</td>\n",
       "      <td>2003-01-06</td>\n",
       "      <td>3</td>\n",
       "    </tr>\n",
       "    <tr>\n",
       "      <th>1</th>\n",
       "      <td>10100</td>\n",
       "      <td>c</td>\n",
       "      <td>2003-01-10</td>\n",
       "      <td>2003-01-13</td>\n",
       "      <td>2003-01-06</td>\n",
       "      <td>3</td>\n",
       "    </tr>\n",
       "    <tr>\n",
       "      <th>2</th>\n",
       "      <td>10100</td>\n",
       "      <td>c</td>\n",
       "      <td>2003-01-10</td>\n",
       "      <td>2003-01-13</td>\n",
       "      <td>2003-01-06</td>\n",
       "      <td>3</td>\n",
       "    </tr>\n",
       "    <tr>\n",
       "      <th>3</th>\n",
       "      <td>10100</td>\n",
       "      <td>c</td>\n",
       "      <td>2003-01-10</td>\n",
       "      <td>2003-01-13</td>\n",
       "      <td>2003-01-06</td>\n",
       "      <td>3</td>\n",
       "    </tr>\n",
       "    <tr>\n",
       "      <th>4</th>\n",
       "      <td>10101</td>\n",
       "      <td>c</td>\n",
       "      <td>2003-01-11</td>\n",
       "      <td>2003-01-18</td>\n",
       "      <td>2003-01-09</td>\n",
       "      <td>7</td>\n",
       "    </tr>\n",
       "  </tbody>\n",
       "</table>\n",
       "</div>"
      ],
      "text/plain": [
       "   orderNumber warehouseCode shippedDate requiredDate   orderDate  \\\n",
       "0        10100             c  2003-01-10   2003-01-13  2003-01-06   \n",
       "1        10100             c  2003-01-10   2003-01-13  2003-01-06   \n",
       "2        10100             c  2003-01-10   2003-01-13  2003-01-06   \n",
       "3        10100             c  2003-01-10   2003-01-13  2003-01-06   \n",
       "4        10101             c  2003-01-11   2003-01-18  2003-01-09   \n",
       "\n",
       "   delivery_margin_days  \n",
       "0                     3  \n",
       "1                     3  \n",
       "2                     3  \n",
       "3                     3  \n",
       "4                     7  "
      ]
     },
     "execution_count": 32,
     "metadata": {},
     "output_type": "execute_result"
    }
   ],
   "source": [
    "#inspect new dataframe\n",
    "df1_filtered.head()"
   ]
  },
  {
   "cell_type": "code",
   "execution_count": 33,
   "id": "b04fc690-8fed-4a1e-b258-2e3b1c2383d5",
   "metadata": {},
   "outputs": [
    {
     "data": {
      "text/plain": [
       "(2837, 6)"
      ]
     },
     "execution_count": 33,
     "metadata": {},
     "output_type": "execute_result"
    }
   ],
   "source": [
    "df1_filtered.shape"
   ]
  },
  {
   "cell_type": "code",
   "execution_count": 34,
   "id": "b3018124-6ba7-476d-a04f-5ef9f8025745",
   "metadata": {},
   "outputs": [
    {
     "data": {
      "text/plain": [
       "warehouseCode\n",
       "a    4.181278\n",
       "c    4.626214\n",
       "b    4.820248\n",
       "d    4.842561\n",
       "Name: delivery_margin_days, dtype: float64"
      ]
     },
     "execution_count": 34,
     "metadata": {},
     "output_type": "execute_result"
    }
   ],
   "source": [
    "#obtain mean delivery_margin_days across warehouses\n",
    "df1_filtered.groupby(\"warehouseCode\")[\"delivery_margin_days\"].mean().sort_values()"
   ]
  },
  {
   "cell_type": "markdown",
   "id": "fe92969f-44fe-43b6-8bc5-832626b0c163",
   "metadata": {},
   "source": [
    "Again tests are carried out to check if underlying assumptions of normality and variance homogeneity are met."
   ]
  },
  {
   "cell_type": "markdown",
   "id": "87cc0885-3a36-46af-997d-c7f8f5eb232a",
   "metadata": {},
   "source": [
    "##### Levene's test for homogenuity of variances "
   ]
  },
  {
   "cell_type": "markdown",
   "id": "2031b9ac-1c6a-4690-8574-e247648fb7d8",
   "metadata": {},
   "source": [
    "This test checks whether the variance of `delivery_margin_days` across warehouses is statistically equal.\n",
    "\n",
    "- Null hypothesis $H_0$,  The variances of `delivery_margin_days` are equal across all the `warehouseCode` groups. \n",
    "- Alternative hypothesis $H_1$, At least one `warehouseCode` group has a significantly different variance of `delivery_margin_days`.\n",
    "- Significance Level (α): **0.05**"
   ]
  },
  {
   "cell_type": "code",
   "execution_count": 38,
   "id": "40de24f3-e649-4263-8912-4a4eaf355338",
   "metadata": {},
   "outputs": [
    {
     "name": "stdout",
     "output_type": "stream",
     "text": [
      "Levene's test p-value: 0.11709300610120393\n",
      "✅ Variances are equal — assumption met.\n"
     ]
    }
   ],
   "source": [
    "#group data\n",
    "grouped_data = [group[\"delivery_margin_days\"].values for name, group in df1_filtered.groupby(\"warehouseCode\")]\n",
    "\n",
    "# Levene's test\n",
    "stat, p = levene(*grouped_data)\n",
    "\n",
    "print(\"Levene's test p-value:\", p)\n",
    "if p < 0.05:\n",
    "    print(\"❌ Variances are significantly different.\")\n",
    "else:\n",
    "    print(\"✅ Variances are equal — assumption met.\")"
   ]
  },
  {
   "cell_type": "markdown",
   "id": "904e1705-af80-49ec-a438-80c8226f00b2",
   "metadata": {},
   "source": [
    "Since the p-value (0.117093) is greater than our chosen significance level (α=0.05), we fail to reject the null hypothesis ($H_0$,). This indicates that there is no statistically significant evidence to suggest that the variances of delivery performance are different across the warehouses. Therefore, the assumption of homogeneity of variances is considered met."
   ]
  },
  {
   "cell_type": "markdown",
   "id": "7425ca4e-e61f-40bf-b20f-b22bd7d49034",
   "metadata": {},
   "source": [
    "Since the assumption of homogeneity of variances was met, the next step in validating the suitability of a standard ANOVA was to assess the normality of the residuals. A Q-Q plot was produced from the ANOVA model to visually inspect their distribution."
   ]
  },
  {
   "cell_type": "code",
   "execution_count": 41,
   "id": "eb308b60-1af0-4007-ae62-f6daf81a01cb",
   "metadata": {},
   "outputs": [
    {
     "data": {
      "image/png": "[encoded data removed]",
      "text/plain": [
       "<Figure size 400x400 with 1 Axes>"
      ]
     },
     "metadata": {},
     "output_type": "display_data"
    }
   ],
   "source": [
    "# Construct a simple linear regression model, and fit the model\n",
    "model = ols('delivery_margin_days ~ C(warehouseCode)', data=df1_filtered).fit()\n",
    "\n",
    "# Plot QQ-plot\n",
    "plt.figure(figsize=(4,4))\n",
    "stats.probplot(model.resid, dist=\"norm\", plot=plt)\n",
    "plt.title(\"QQ Plot of Residuals\")\n",
    "plt.show()"
   ]
  },
  {
   "cell_type": "markdown",
   "id": "c5d3d386-c38b-404b-bf23-49defefbabcd",
   "metadata": {},
   "source": [
    "Most of the points fall along the red line, especially around the center (quantiles near 0), which indicates that the residuals approximately follow a normal distribution. Although there is some deviation at the tails, the residuals are close enough to normal to meet the normality assumption for ANOVA testing."
   ]
  },
  {
   "cell_type": "markdown",
   "id": "7c2d9ac2-05a5-4fd9-a36a-783fc9ffbc00",
   "metadata": {},
   "source": [
    "##### One-way ANOVA\n",
    "\n",
    "\n",
    "- Null hypothesis $H_0$,  The population means of `delievery_margin_days` are equal across all the `warehouseCode` groups.\n",
    "- Alternative hypothesis $H_1$, At least one warehouseCode group has a significantly different population mean of `delivery_margin_days`.\n",
    "- Significance Level (α): **0.05**"
   ]
  },
  {
   "cell_type": "code",
   "execution_count": 44,
   "id": "c5302266-40aa-472b-a002-7902c4f8a9eb",
   "metadata": {},
   "outputs": [
    {
     "data": {
      "text/html": [
       "<div>\n",
       "<style scoped>\n",
       "    .dataframe tbody tr th:only-of-type {\n",
       "        vertical-align: middle;\n",
       "    }\n",
       "\n",
       "    .dataframe tbody tr th {\n",
       "        vertical-align: top;\n",
       "    }\n",
       "\n",
       "    .dataframe thead th {\n",
       "        text-align: right;\n",
       "    }\n",
       "</style>\n",
       "<table border=\"1\" class=\"dataframe\">\n",
       "  <thead>\n",
       "    <tr style=\"text-align: right;\">\n",
       "      <th></th>\n",
       "      <th>sum_sq</th>\n",
       "      <th>df</th>\n",
       "      <th>F</th>\n",
       "      <th>PR(&gt;F)</th>\n",
       "    </tr>\n",
       "  </thead>\n",
       "  <tbody>\n",
       "    <tr>\n",
       "      <th>C(warehouseCode)</th>\n",
       "      <td>196.667158</td>\n",
       "      <td>3.0</td>\n",
       "      <td>13.169777</td>\n",
       "      <td>1.541431e-08</td>\n",
       "    </tr>\n",
       "    <tr>\n",
       "      <th>Residual</th>\n",
       "      <td>14101.935592</td>\n",
       "      <td>2833.0</td>\n",
       "      <td>NaN</td>\n",
       "      <td>NaN</td>\n",
       "    </tr>\n",
       "  </tbody>\n",
       "</table>\n",
       "</div>"
      ],
      "text/plain": [
       "                        sum_sq      df          F        PR(>F)\n",
       "C(warehouseCode)    196.667158     3.0  13.169777  1.541431e-08\n",
       "Residual          14101.935592  2833.0        NaN           NaN"
      ]
     },
     "execution_count": 44,
     "metadata": {},
     "output_type": "execute_result"
    }
   ],
   "source": [
    "# Run one-way ANOVA\n",
    "sm.stats.anova_lm(model, typ = 2)\n"
   ]
  },
  {
   "cell_type": "markdown",
   "id": "ed8aea77-4032-468a-acf6-5873f55abdf0",
   "metadata": {},
   "source": [
    "The observed p-value from the ANOVA was highly significant, leading to the rejection of the null hypothesis. This confirms that the mean delivery_margin_days is significantly different across various warehouseCode groups. As a result, post-hoc tests will be performed to explore the pairwise relationships and identify which specific warehouse pairs have statistically significant differences in their mean delivery performance."
   ]
  },
  {
   "cell_type": "markdown",
   "id": "0996c575-bf14-408a-b16d-bad4f1ffd3a1",
   "metadata": {},
   "source": [
    "##### Tukey's HSD (honestly significantly different) test."
   ]
  },
  {
   "cell_type": "markdown",
   "id": "28509c0b-6f40-45d8-8158-412b13498d92",
   "metadata": {},
   "source": [
    "Following the statistically significant result from the One-Way ANOVA, Tukey's Honestly Significant Difference (HSD) post-hoc test was conducted to further examine the pairwise relationships between the warehouses. The goal of this post-hoc analysis is to determine exactly which specific warehouse pairs show statistically significant differences in their population mean delivery_margin_days. A significance level of α=0.05 was used for these comparisons."
   ]
  },
  {
   "cell_type": "code",
   "execution_count": 48,
   "id": "a635ac85-e757-4b6e-9725-1f342331e89e",
   "metadata": {},
   "outputs": [
    {
     "data": {
      "text/html": [
       "<table class=\"simpletable\">\n",
       "<caption>Multiple Comparison of Means - Tukey HSD, FWER=0.05</caption>\n",
       "<tr>\n",
       "  <th>group1</th> <th>group2</th> <th>meandiff</th>  <th>p-adj</th>  <th>lower</th>   <th>upper</th> <th>reject</th>\n",
       "</tr>\n",
       "<tr>\n",
       "     <td>a</td>      <td>b</td>     <td>0.639</td>    <td>0.0</td>  <td>0.3511</td>  <td>0.9268</td>  <td>True</td> \n",
       "</tr>\n",
       "<tr>\n",
       "     <td>a</td>      <td>c</td>    <td>0.4449</td>   <td>0.002</td> <td>0.1254</td>  <td>0.7645</td>  <td>True</td> \n",
       "</tr>\n",
       "<tr>\n",
       "     <td>a</td>      <td>d</td>    <td>0.6613</td>    <td>0.0</td>   <td>0.336</td>  <td>0.9865</td>  <td>True</td> \n",
       "</tr>\n",
       "<tr>\n",
       "     <td>b</td>      <td>c</td>    <td>-0.194</td>  <td>0.3296</td> <td>-0.4893</td> <td>0.1013</td>  <td>False</td>\n",
       "</tr>\n",
       "<tr>\n",
       "     <td>b</td>      <td>d</td>    <td>0.0223</td>  <td>0.9976</td> <td>-0.2792</td> <td>0.3238</td>  <td>False</td>\n",
       "</tr>\n",
       "<tr>\n",
       "     <td>c</td>      <td>d</td>    <td>0.2163</td>  <td>0.3367</td> <td>-0.1155</td> <td>0.5482</td>  <td>False</td>\n",
       "</tr>\n",
       "</table>"
      ],
      "text/latex": [
       "\\begin{center}\n",
       "\\begin{tabular}{ccccccc}\n",
       "\\toprule\n",
       "\\textbf{group1} & \\textbf{group2} & \\textbf{meandiff} & \\textbf{p-adj} & \\textbf{lower} & \\textbf{upper} & \\textbf{reject}  \\\\\n",
       "\\midrule\n",
       "       a        &        b        &       0.639       &      0.0       &     0.3511     &     0.9268     &       True       \\\\\n",
       "       a        &        c        &       0.4449      &     0.002      &     0.1254     &     0.7645     &       True       \\\\\n",
       "       a        &        d        &       0.6613      &      0.0       &     0.336      &     0.9865     &       True       \\\\\n",
       "       b        &        c        &       -0.194      &     0.3296     &    -0.4893     &     0.1013     &      False       \\\\\n",
       "       b        &        d        &       0.0223      &     0.9976     &    -0.2792     &     0.3238     &      False       \\\\\n",
       "       c        &        d        &       0.2163      &     0.3367     &    -0.1155     &     0.5482     &      False       \\\\\n",
       "\\bottomrule\n",
       "\\end{tabular}\n",
       "%\\caption{Multiple Comparison of Means - Tukey HSD, FWER=0.05}\n",
       "\\end{center}"
      ],
      "text/plain": [
       "<class 'statsmodels.iolib.table.SimpleTable'>"
      ]
     },
     "execution_count": 48,
     "metadata": {},
     "output_type": "execute_result"
    }
   ],
   "source": [
    "# Run Tukey's HSD post hoc test for one-way ANOVA\n",
    "tukey_oneway = pairwise_tukeyhsd(endog = df1_filtered[\"delivery_margin_days\"], groups = df1_filtered[\"warehouseCode\"])\n",
    "\n",
    "# Display the results\n",
    "tukey_oneway.summary()"
   ]
  },
  {
   "cell_type": "markdown",
   "id": "d1c4e4e7-a28d-466f-ba4c-525be456d972",
   "metadata": {},
   "source": [
    "**Test 1:A vs B**\n",
    "\n",
    "$H_0: \\mu_A = \\mu_B$\n",
    "\n",
    "The population mean delivery_margin_days for Warehouse A is equal to that for Warehouse B \n",
    "\n",
    "$H_1: \\mu_A \\neq \\mu_B$\n",
    "\n",
    "The population mean delivery_margin_days for Warehouse A is not equal to that for Warehouse B\n",
    "\n",
    "Result: We reject the null hypothesis that the population mean delivery_margin_days for Warehouse A is equal to that for Warehouse B \n",
    "\n",
    "\n",
    "\n",
    "**Test 2:A vs C**\n",
    "\n",
    "$H_0: \\mu_A = \\mu_C$\n",
    "\n",
    "The population mean delivery_margin_days for Warehouse A is equal to that for Warehouse C \n",
    "\n",
    "$H_1: \\mu_A \\neq \\mu_C$\n",
    "\n",
    "The population mean delivery_margin_days for Warehouse A is not equal to that for Warehouse C\n",
    "\n",
    "Result: We reject the null hypothesis that the population mean delivery_margin_days for Warehouse A is equal to that for Warehouse B \n",
    "\n",
    "\n",
    "**Test 3:A vs D**\n",
    "\n",
    "$H_0: \\mu_A = \\mu_D$\n",
    "\n",
    "The population mean delivery_margin_days for Warehouse A is equal to that for Warehouse D \n",
    "\n",
    "$H_1: \\mu_A \\neq \\mu_D$\n",
    "\n",
    "The population mean delivery_margin_days for Warehouse A is not equal to that for Warehouse D\n",
    "\n",
    "Result: We reject the null hypothesis that the population mean delivery_margin_days for Warehouse A is equal to that for Warehouse D\n",
    "\n",
    "\n",
    "**Test 4:B vs C**\n",
    "\n",
    "$H_0: \\mu_B = \\mu_C$\n",
    "\n",
    "The population mean delivery_margin_days for Warehouse B is equal to that for Warehouse C \n",
    "\n",
    "$H_1: \\mu_B \\neq \\mu_C$\n",
    "\n",
    "The population mean delivery_margin_days for Warehouse B is not equal to that for Warehouse C\n",
    "\n",
    "Result: We fail to reject the null hypothesis that the population mean delivery_margin_days for Warehouse B is equal to that for Warehouse C \n",
    "\n",
    "**Test 5:B vs D**\n",
    "\n",
    "$H_0: \\mu_B = \\mu_D$\n",
    "\n",
    "The population mean delivery_margin_days for Warehouse B is equal to that for Warehouse D \n",
    "\n",
    "$H_1: \\mu_B \\neq \\mu_D$\n",
    "\n",
    "The population mean delivery_margin_days for Warehouse B is not equal to that for Warehouse D\n",
    "\n",
    "Result: We fail to reject the null hypothesis that the population mean delivery_margin_days for Warehouse B is equal to that for Warehouse D\n",
    "\n",
    "**Test 6:C vs D**\n",
    "\n",
    "$H_0: \\mu_C = \\mu_D$\n",
    "\n",
    "The population mean delivery_margin_days for Warehouse C is equal to that for Warehouse D \n",
    "\n",
    "$H_1: \\mu_C \\neq \\mu_D$\n",
    "\n",
    "The population mean delivery_margin_days for Warehouse C is not equal to that for Warehouse D\n",
    "\n",
    "Result: We fail to reject the null hypothesis that the population mean delivery_margin_days for Warehouse C is equal to that for Warehouse D \n",
    "\n",
    "\n",
    "\n",
    "\n"
   ]
  },
  {
   "cell_type": "markdown",
   "id": "ac006d81-7e6a-48dc-b1f0-dbf8fcfac4ea",
   "metadata": {},
   "source": [
    "Tukey's HSD test indicates that Warehouse A demonstrates a statistically significant underperformance in delivery performance compared to Warehouses B, C, and D. This positions Warehouse A as the least efficient facility, consistently delivering later than its counterparts.\n",
    "\n",
    "Conversely, Warehouses B, C, and D show no statistically significant differences in their mean `delivery_margin_days` among themselves. From a delivery performance perspective, they are statistically interchangeable.\n",
    "\n",
    "Therefore, when considering consolidation strategies based solely on delivery performance, Warehouse A should be prioritized for review or potential closure, given its demonstrably lower efficiency. The remaining three warehouses (B, C, and D) perform comparably and would require additional criteria beyond delivery performance to determine which should be retained or consolidated"
   ]
  },
  {
   "cell_type": "markdown",
   "id": "10d67886-ca54-4484-a0b7-ec1943128a27",
   "metadata": {},
   "source": [
    "#### Stock Utilization Analysis \n",
    "\n",
    "This section aims to identify excess or dead stock, as well as indications of potential understocking, across warehouses by analyzing inventory turnover characteristics. A key performance indicator, the stock utilization ratio, was specifically derived for this analysis. This metric is calculated as the ratio of quantity ordered in the past 12 months for a product to its current quantity in stock (quantity_ordered_last_year / quantityInStock).\n",
    "\n",
    "The stock utilization ratio provides a crucial insight into how effectively a product's recent demand has consumed its current inventory. A lower ratio indicates that a significant amount of a product's current stock remains unsold despite its recent sales activity, signaling it as potentially slow-moving or, in extreme cases (where quantity_ordered_last_year is zero but quantityInStock is greater than zero), dead stock. Conversely, a high ratio suggests a fast-moving product where recent demand is high relative to current stock, potentially indicating efficient inventory management or, conversely, a risk of understocking. This analysis relies on stock data extracted directly from the database through carefully structured joins across relevant tables, including products, order details, and orders.\n",
    "\n",
    "\n"
   ]
  },
  {
   "cell_type": "code",
   "execution_count": 52,
   "id": "38c05486-8203-4022-80f5-12185736875f",
   "metadata": {},
   "outputs": [],
   "source": [
    "#import data\n",
    "df2 = pd.read_csv(\"../Data/stock_util.csv\")\n"
   ]
  },
  {
   "cell_type": "code",
   "execution_count": 53,
   "id": "ed79b23e-bcc6-46dc-8fdb-4ee4b8640189",
   "metadata": {},
   "outputs": [
    {
     "data": {
      "text/html": [
       "<div>\n",
       "<style scoped>\n",
       "    .dataframe tbody tr th:only-of-type {\n",
       "        vertical-align: middle;\n",
       "    }\n",
       "\n",
       "    .dataframe tbody tr th {\n",
       "        vertical-align: top;\n",
       "    }\n",
       "\n",
       "    .dataframe thead th {\n",
       "        text-align: right;\n",
       "    }\n",
       "</style>\n",
       "<table border=\"1\" class=\"dataframe\">\n",
       "  <thead>\n",
       "    <tr style=\"text-align: right;\">\n",
       "      <th></th>\n",
       "      <th>productCode</th>\n",
       "      <th>productName</th>\n",
       "      <th>quantityInStock</th>\n",
       "      <th>quantity_ordered</th>\n",
       "      <th>warehousecode</th>\n",
       "      <th>buyPrice</th>\n",
       "    </tr>\n",
       "  </thead>\n",
       "  <tbody>\n",
       "    <tr>\n",
       "      <th>0</th>\n",
       "      <td>S18_3232</td>\n",
       "      <td>1992 Ferrari 360 Spider red</td>\n",
       "      <td>8347</td>\n",
       "      <td>914</td>\n",
       "      <td>b</td>\n",
       "      <td>77.90</td>\n",
       "    </tr>\n",
       "    <tr>\n",
       "      <th>1</th>\n",
       "      <td>S18_1342</td>\n",
       "      <td>1937 Lincoln Berline</td>\n",
       "      <td>8693</td>\n",
       "      <td>654</td>\n",
       "      <td>c</td>\n",
       "      <td>60.62</td>\n",
       "    </tr>\n",
       "    <tr>\n",
       "      <th>2</th>\n",
       "      <td>S18_3856</td>\n",
       "      <td>1941 Chevrolet Special Deluxe Cabriolet</td>\n",
       "      <td>2378</td>\n",
       "      <td>612</td>\n",
       "      <td>c</td>\n",
       "      <td>64.58</td>\n",
       "    </tr>\n",
       "    <tr>\n",
       "      <th>3</th>\n",
       "      <td>S50_1341</td>\n",
       "      <td>1930 Buick Marquette Phaeton</td>\n",
       "      <td>7062</td>\n",
       "      <td>592</td>\n",
       "      <td>c</td>\n",
       "      <td>27.06</td>\n",
       "    </tr>\n",
       "    <tr>\n",
       "      <th>4</th>\n",
       "      <td>S32_1374</td>\n",
       "      <td>1997 BMW F650 ST</td>\n",
       "      <td>178</td>\n",
       "      <td>591</td>\n",
       "      <td>a</td>\n",
       "      <td>66.92</td>\n",
       "    </tr>\n",
       "  </tbody>\n",
       "</table>\n",
       "</div>"
      ],
      "text/plain": [
       "  productCode                              productName  quantityInStock  \\\n",
       "0    S18_3232              1992 Ferrari 360 Spider red             8347   \n",
       "1    S18_1342                     1937 Lincoln Berline             8693   \n",
       "2    S18_3856  1941 Chevrolet Special Deluxe Cabriolet             2378   \n",
       "3    S50_1341             1930 Buick Marquette Phaeton             7062   \n",
       "4    S32_1374                         1997 BMW F650 ST              178   \n",
       "\n",
       "   quantity_ordered warehousecode  buyPrice  \n",
       "0               914             b     77.90  \n",
       "1               654             c     60.62  \n",
       "2               612             c     64.58  \n",
       "3               592             c     27.06  \n",
       "4               591             a     66.92  "
      ]
     },
     "execution_count": 53,
     "metadata": {},
     "output_type": "execute_result"
    }
   ],
   "source": [
    "#inspect first 5 rows\n",
    "df2.head()"
   ]
  },
  {
   "cell_type": "code",
   "execution_count": 54,
   "id": "dea9bb16-e556-46dd-93fd-31aa3faace02",
   "metadata": {},
   "outputs": [],
   "source": [
    "# derive stock_utilization variable \n",
    "df2['stock_utilization_ratio'] = df2['quantity_ordered'] / df2['quantityInStock'].replace(0, pd.NA)\n",
    "df2['stock_utilization_ratio'] = df2['stock_utilization_ratio'].fillna(0)"
   ]
  },
  {
   "cell_type": "code",
   "execution_count": 55,
   "id": "d89e5032-74ef-4c33-acd5-45469615038f",
   "metadata": {},
   "outputs": [
    {
     "data": {
      "text/plain": [
       "(110, 7)"
      ]
     },
     "execution_count": 55,
     "metadata": {},
     "output_type": "execute_result"
    }
   ],
   "source": [
    "df2.shape"
   ]
  },
  {
   "cell_type": "code",
   "execution_count": 56,
   "id": "1ff62f4a-515d-4a4f-985d-3b497e78b151",
   "metadata": {},
   "outputs": [],
   "source": [
    "# derive value of inventory\n",
    "df2['stock_value'] = df2['quantityInStock'] * df2['buyPrice']\n"
   ]
  },
  {
   "cell_type": "code",
   "execution_count": 57,
   "id": "51a940ca-fed6-4e85-b86c-e5a77e9daedf",
   "metadata": {},
   "outputs": [
    {
     "data": {
      "text/plain": [
       "<Axes: xlabel='warehousecode', ylabel='stock_utilization_ratio'>"
      ]
     },
     "execution_count": 57,
     "metadata": {},
     "output_type": "execute_result"
    },
    {
     "data": {
      "image/png": "[encoded data removed]",
      "text/plain": [
       "<Figure size 400x400 with 1 Axes>"
      ]
     },
     "metadata": {},
     "output_type": "display_data"
    }
   ],
   "source": [
    "# create boxplot to show distribution of stock_utilization across warehouses\n",
    "plt.figure(figsize=(4,4))\n",
    "sns.boxplot(x = \"warehousecode\", y = \"stock_utilization_ratio\", data = df2)\n"
   ]
  },
  {
   "cell_type": "markdown",
   "id": "e7457422-d30a-4a02-b399-bfa13bc291b8",
   "metadata": {},
   "source": [
    "The box plot of stock_utilization_ratio highlights an issue of slow-moving or dead stock across all Mint Classics warehouses, with most products exhibiting very low recent utilization. While all warehouses also display outliers indicating fast-moving or potentially understocked items (ratio > 1), these are exceptions. Notably, Warehouse 'a' shows an extreme outlier with a ratio nearing 40. This data reveals a dual inventory challenge: widespread poor turnover alongside specific instances of high-demand items at risk of stock-outs"
   ]
  },
  {
   "cell_type": "markdown",
   "id": "e128fee6-eda8-4727-88c4-47a07ec078f3",
   "metadata": {},
   "source": [
    "##### Deadstock Analysis"
   ]
  },
  {
   "cell_type": "code",
   "execution_count": 60,
   "id": "ef6060be-a5e9-4a3d-a64f-44efe6884d09",
   "metadata": {},
   "outputs": [
    {
     "name": "stdout",
     "output_type": "stream",
     "text": [
      "Products with zero sales in the last year:\n",
      "    productCode        productName  quantityInStock  quantity_ordered  \\\n",
      "109    S18_3233  1985 Toyota Supra             7733                 0   \n",
      "\n",
      "    warehousecode  stock_value  \n",
      "109             b    440858.33  \n"
     ]
    }
   ],
   "source": [
    "# Filter products with zero quantity ordered\n",
    "zero_sales_df = df2[df2['quantity_ordered'] == 0]\n",
    "\n",
    "# Select relevant columns\n",
    "zero_sales_df = zero_sales_df[['productCode', 'productName', 'quantityInStock', 'quantity_ordered', 'warehousecode', 'stock_value', ]]\n",
    "\n",
    "# View or export\n",
    "print(\"Products with zero sales in the last year:\")\n",
    "print(zero_sales_df)"
   ]
  },
  {
   "cell_type": "markdown",
   "id": "602c5eda-a165-4010-972d-30687b87f53d",
   "metadata": {},
   "source": [
    "This analysis identified only a single product with no recorded sales in the past year, the '1985 Toyota Supra' (Product Code S18_3233), located in Warehouse 'b'. A buy price of  `$57.01` per unit. With a quantity in stock of `7773 units`, this single dead stock item represents a total value of `$440,858` tied down in inventory\n",
    "\n",
    "This finding indicates that Mint Classics does not face a widespread issue of completely stagnant inventory. However, this specific item represents a direct financial liability and an opportunity for immediate capital recovery through liquidation or other disposition strategies.\n",
    "\n"
   ]
  },
  {
   "cell_type": "markdown",
   "id": "0e0127b6-bf0c-4bde-96bb-af38cb381c9b",
   "metadata": {},
   "source": [
    "##### Slow-Moving and Overstocked Inventory Assessment\n"
   ]
  },
  {
   "cell_type": "markdown",
   "id": "c7dbb18f-7dd2-4123-a840-516d0f573d80",
   "metadata": {},
   "source": [
    "For the purpose of identifying overstocked inventory, a quantitative threshold was defined: products falling within or below the 25th percentile of the stock_utilization_ratio were classified as slow-moving or overstocked. This percentile-based methodology offers a flexible and data-driven approach to segmentation. It is important to note that the specific threshold chosen can be refined in future analyses, allowing for alignment with evolving business objectives or strategic inventory management directives from sales and marketing."
   ]
  },
  {
   "cell_type": "code",
   "execution_count": 64,
   "id": "435c2220-b02b-4338-80d7-914ede5442d7",
   "metadata": {},
   "outputs": [],
   "source": [
    "#define threshold \n",
    "threshold = np.percentile(df2['stock_utilization_ratio'], 25)"
   ]
  },
  {
   "cell_type": "code",
   "execution_count": 65,
   "id": "572d74bb-380e-494f-a0c0-27f1eb875508",
   "metadata": {},
   "outputs": [],
   "source": [
    "# Create a new flag column\n",
    "df2['is_bottom_quartile'] = df2['stock_utilization_ratio'] <= threshold"
   ]
  },
  {
   "cell_type": "code",
   "execution_count": 66,
   "id": "de7c4df6-1cf0-4154-ac1d-a3389dcaae6e",
   "metadata": {},
   "outputs": [],
   "source": [
    "# View only the flagged low-performing products\n",
    "low_util_products = df2[df2['is_bottom_quartile']]"
   ]
  },
  {
   "cell_type": "code",
   "execution_count": 67,
   "id": "1490806e-8a24-4c36-abec-1467ae8433a7",
   "metadata": {},
   "outputs": [
    {
     "data": {
      "text/html": [
       "<div>\n",
       "<style scoped>\n",
       "    .dataframe tbody tr th:only-of-type {\n",
       "        vertical-align: middle;\n",
       "    }\n",
       "\n",
       "    .dataframe tbody tr th {\n",
       "        vertical-align: top;\n",
       "    }\n",
       "\n",
       "    .dataframe thead th {\n",
       "        text-align: right;\n",
       "    }\n",
       "</style>\n",
       "<table border=\"1\" class=\"dataframe\">\n",
       "  <thead>\n",
       "    <tr style=\"text-align: right;\">\n",
       "      <th></th>\n",
       "      <th>productCode</th>\n",
       "      <th>productName</th>\n",
       "      <th>quantityInStock</th>\n",
       "      <th>quantity_ordered</th>\n",
       "      <th>warehousecode</th>\n",
       "      <th>buyPrice</th>\n",
       "      <th>stock_utilization_ratio</th>\n",
       "      <th>stock_value</th>\n",
       "      <th>is_bottom_quartile</th>\n",
       "    </tr>\n",
       "  </thead>\n",
       "  <tbody>\n",
       "    <tr>\n",
       "      <th>6</th>\n",
       "      <td>S700_4002</td>\n",
       "      <td>American Airlines: MD-11S</td>\n",
       "      <td>8820</td>\n",
       "      <td>582</td>\n",
       "      <td>a</td>\n",
       "      <td>36.27</td>\n",
       "      <td>0.065986</td>\n",
       "      <td>319901.40</td>\n",
       "      <td>True</td>\n",
       "    </tr>\n",
       "    <tr>\n",
       "      <th>13</th>\n",
       "      <td>S12_2823</td>\n",
       "      <td>2002 Suzuki XREO</td>\n",
       "      <td>9997</td>\n",
       "      <td>565</td>\n",
       "      <td>a</td>\n",
       "      <td>66.27</td>\n",
       "      <td>0.056517</td>\n",
       "      <td>662501.19</td>\n",
       "      <td>True</td>\n",
       "    </tr>\n",
       "    <tr>\n",
       "      <th>14</th>\n",
       "      <td>S700_2466</td>\n",
       "      <td>America West Airlines B757-200</td>\n",
       "      <td>9653</td>\n",
       "      <td>565</td>\n",
       "      <td>a</td>\n",
       "      <td>68.80</td>\n",
       "      <td>0.058531</td>\n",
       "      <td>664126.40</td>\n",
       "      <td>True</td>\n",
       "    </tr>\n",
       "    <tr>\n",
       "      <th>22</th>\n",
       "      <td>S18_2319</td>\n",
       "      <td>1964 Mercedes Tour Bus</td>\n",
       "      <td>8258</td>\n",
       "      <td>556</td>\n",
       "      <td>d</td>\n",
       "      <td>74.86</td>\n",
       "      <td>0.067329</td>\n",
       "      <td>618193.88</td>\n",
       "      <td>True</td>\n",
       "    </tr>\n",
       "    <tr>\n",
       "      <th>33</th>\n",
       "      <td>S18_4522</td>\n",
       "      <td>1904 Buick Runabout</td>\n",
       "      <td>8290</td>\n",
       "      <td>530</td>\n",
       "      <td>c</td>\n",
       "      <td>52.66</td>\n",
       "      <td>0.063932</td>\n",
       "      <td>436551.40</td>\n",
       "      <td>True</td>\n",
       "    </tr>\n",
       "  </tbody>\n",
       "</table>\n",
       "</div>"
      ],
      "text/plain": [
       "   productCode                     productName  quantityInStock  \\\n",
       "6    S700_4002       American Airlines: MD-11S             8820   \n",
       "13    S12_2823                2002 Suzuki XREO             9997   \n",
       "14   S700_2466  America West Airlines B757-200             9653   \n",
       "22    S18_2319          1964 Mercedes Tour Bus             8258   \n",
       "33    S18_4522             1904 Buick Runabout             8290   \n",
       "\n",
       "    quantity_ordered warehousecode  buyPrice  stock_utilization_ratio  \\\n",
       "6                582             a     36.27                 0.065986   \n",
       "13               565             a     66.27                 0.056517   \n",
       "14               565             a     68.80                 0.058531   \n",
       "22               556             d     74.86                 0.067329   \n",
       "33               530             c     52.66                 0.063932   \n",
       "\n",
       "    stock_value  is_bottom_quartile  \n",
       "6     319901.40                True  \n",
       "13    662501.19                True  \n",
       "14    664126.40                True  \n",
       "22    618193.88                True  \n",
       "33    436551.40                True  "
      ]
     },
     "execution_count": 67,
     "metadata": {},
     "output_type": "execute_result"
    }
   ],
   "source": [
    "low_util_products.head()"
   ]
  },
  {
   "cell_type": "code",
   "execution_count": 68,
   "id": "d9bbde46-0462-4c8e-a168-9364f2b67e77",
   "metadata": {},
   "outputs": [],
   "source": [
    "## create summary table \n",
    "\n",
    "#Compute the value of excess stock\n",
    "slow_value = low_util_products.groupby('warehousecode').agg(\n",
    "    slow_moving_value=('stock_value', 'sum'),\n",
    "    num_low_util_products=('productCode', 'count')\n",
    ").reset_index()\n",
    "\n",
    "# Compute total inventory value + total products\n",
    "total_value = df2.groupby('warehousecode').agg(\n",
    "    total_inventory_value=('stock_value', 'sum'),\n",
    "    total_products=('productCode', 'count')\n",
    ").reset_index()\n",
    "\n",
    "# Merge both summaries\n",
    "summary = pd.merge(slow_value, total_value, on='warehousecode')\n",
    "\n",
    "# Compute the percentage of slow-moving stock\n",
    "summary['% of Warehouse Total Inventory Value (Slow-Moving)'] = (\n",
    "    summary['slow_moving_value'] / summary['total_inventory_value']\n",
    ") * 100\n",
    "\n",
    "# Rename columns for presentation\n",
    "summary = summary.rename(columns={\n",
    "    'warehousecode': 'Warehouse',\n",
    "    'slow_moving_value': 'Total Value of Slow-Moving Stock',\n",
    "    'total_inventory_value': \"Warehouse's Total Inventory Value\",\n",
    "    'num_low_util_products': 'Number of Slow-Moving Products',\n",
    "    'total_products': 'Total Products'\n",
    "})\n",
    "\n",
    "# Round values\n",
    "summary = summary.round(2)\n",
    "\n"
   ]
  },
  {
   "cell_type": "code",
   "execution_count": 69,
   "id": "8eb12760-b52c-461a-9e51-988055f7ca90",
   "metadata": {},
   "outputs": [
    {
     "data": {
      "text/html": [
       "<div>\n",
       "<style scoped>\n",
       "    .dataframe tbody tr th:only-of-type {\n",
       "        vertical-align: middle;\n",
       "    }\n",
       "\n",
       "    .dataframe tbody tr th {\n",
       "        vertical-align: top;\n",
       "    }\n",
       "\n",
       "    .dataframe thead th {\n",
       "        text-align: right;\n",
       "    }\n",
       "</style>\n",
       "<table border=\"1\" class=\"dataframe\">\n",
       "  <thead>\n",
       "    <tr style=\"text-align: right;\">\n",
       "      <th></th>\n",
       "      <th>Warehouse</th>\n",
       "      <th>Total Value of Slow-Moving Stock</th>\n",
       "      <th>Number of Slow-Moving Products</th>\n",
       "      <th>Warehouse's Total Inventory Value</th>\n",
       "      <th>Total Products</th>\n",
       "      <th>% of Warehouse Total Inventory Value (Slow-Moving)</th>\n",
       "    </tr>\n",
       "  </thead>\n",
       "  <tbody>\n",
       "    <tr>\n",
       "      <th>0</th>\n",
       "      <td>a</td>\n",
       "      <td>2122959.28</td>\n",
       "      <td>5</td>\n",
       "      <td>6664996.94</td>\n",
       "      <td>25</td>\n",
       "      <td>31.85</td>\n",
       "    </tr>\n",
       "    <tr>\n",
       "      <th>1</th>\n",
       "      <td>b</td>\n",
       "      <td>6782562.95</td>\n",
       "      <td>14</td>\n",
       "      <td>14059337.71</td>\n",
       "      <td>38</td>\n",
       "      <td>48.24</td>\n",
       "    </tr>\n",
       "    <tr>\n",
       "      <th>2</th>\n",
       "      <td>c</td>\n",
       "      <td>2362160.65</td>\n",
       "      <td>6</td>\n",
       "      <td>5704259.82</td>\n",
       "      <td>24</td>\n",
       "      <td>41.41</td>\n",
       "    </tr>\n",
       "    <tr>\n",
       "      <th>3</th>\n",
       "      <td>d</td>\n",
       "      <td>1283774.60</td>\n",
       "      <td>3</td>\n",
       "      <td>4105721.76</td>\n",
       "      <td>23</td>\n",
       "      <td>31.27</td>\n",
       "    </tr>\n",
       "  </tbody>\n",
       "</table>\n",
       "</div>"
      ],
      "text/plain": [
       "  Warehouse  Total Value of Slow-Moving Stock  Number of Slow-Moving Products  \\\n",
       "0         a                        2122959.28                               5   \n",
       "1         b                        6782562.95                              14   \n",
       "2         c                        2362160.65                               6   \n",
       "3         d                        1283774.60                               3   \n",
       "\n",
       "   Warehouse's Total Inventory Value  Total Products  \\\n",
       "0                         6664996.94              25   \n",
       "1                        14059337.71              38   \n",
       "2                         5704259.82              24   \n",
       "3                         4105721.76              23   \n",
       "\n",
       "   % of Warehouse Total Inventory Value (Slow-Moving)  \n",
       "0                                              31.85   \n",
       "1                                              48.24   \n",
       "2                                              41.41   \n",
       "3                                              31.27   "
      ]
     },
     "execution_count": 69,
     "metadata": {},
     "output_type": "execute_result"
    }
   ],
   "source": [
    "summary"
   ]
  },
  {
   "cell_type": "markdown",
   "id": "08b99603-1cd6-478f-b210-b626e4221bc6",
   "metadata": {},
   "source": [
    "Across all warehouses, a substantial `$12,551,457.48` is currently tied up in excess inventory, representing significant capital that could be more efficiently deployed. The accompanying summary table details the distribution of this underutilized capital by warehouse, highlighting its proportion relative to each facility's total inventory value. This analysis underscores that while excess inventory is a pervasive company-wide challenge, Warehouses B and C present the most significant opportunities for capital optimization, either through targeted inventory reduction strategies or as a key consideration in consolidation decisions."
   ]
  },
  {
   "cell_type": "markdown",
   "id": "bc471e42-da6f-4c3c-acac-58bb15f90162",
   "metadata": {},
   "source": [
    "##### Understocked inventory assessment "
   ]
  },
  {
   "cell_type": "markdown",
   "id": "fca67853-61e6-4c26-a3c6-2a51bc977a36",
   "metadata": {},
   "source": [
    "To identify potentially understocked inventory, a data-driven threshold was set at the 95th percentile of the stock_utilization_ratio. Products at or above this percentile are classified as understocked, indicating they have experienced exceptionally high recent demand relative to their current stock levels. This percentile-based approach highlights items that may be critically low on inventory, allowing for proactive replenishment. This threshold remains adjustable to align with evolving market demands or strategic sales objectives"
   ]
  },
  {
   "cell_type": "code",
   "execution_count": 73,
   "id": "e2232378-9956-415e-a59b-e1417e898558",
   "metadata": {},
   "outputs": [],
   "source": [
    "threshold_understocked = np.percentile(df2['stock_utilization_ratio'], 95)"
   ]
  },
  {
   "cell_type": "code",
   "execution_count": 74,
   "id": "2b7374e7-8436-46ba-ba8c-5b8ef4d32156",
   "metadata": {},
   "outputs": [],
   "source": [
    "# Create a new flag column\n",
    "df2['is_top_quartile'] = df2['stock_utilization_ratio'] >= threshold_understocked"
   ]
  },
  {
   "cell_type": "code",
   "execution_count": 75,
   "id": "76434275-f4c5-4eaa-a3a1-d4c454bd1c77",
   "metadata": {},
   "outputs": [],
   "source": [
    "# View only the flagged understocked products\n",
    "understocked_products = df2[df2['is_top_quartile']]"
   ]
  },
  {
   "cell_type": "code",
   "execution_count": 122,
   "id": "21667401-21f7-4c83-ad7f-b86412918626",
   "metadata": {},
   "outputs": [
    {
     "data": {
      "text/html": [
       "<div>\n",
       "<style scoped>\n",
       "    .dataframe tbody tr th:only-of-type {\n",
       "        vertical-align: middle;\n",
       "    }\n",
       "\n",
       "    .dataframe tbody tr th {\n",
       "        vertical-align: top;\n",
       "    }\n",
       "\n",
       "    .dataframe thead th {\n",
       "        text-align: right;\n",
       "    }\n",
       "</style>\n",
       "<table border=\"1\" class=\"dataframe\">\n",
       "  <thead>\n",
       "    <tr style=\"text-align: right;\">\n",
       "      <th></th>\n",
       "      <th>productCode</th>\n",
       "      <th>productName</th>\n",
       "      <th>quantityInStock</th>\n",
       "      <th>quantity_ordered</th>\n",
       "      <th>warehousecode</th>\n",
       "      <th>buyPrice</th>\n",
       "      <th>stock_utilization_ratio</th>\n",
       "      <th>stock_value</th>\n",
       "      <th>is_bottom_quartile</th>\n",
       "      <th>is_top_quartile</th>\n",
       "      <th>Stock_Status</th>\n",
       "    </tr>\n",
       "  </thead>\n",
       "  <tbody>\n",
       "    <tr>\n",
       "      <th>4</th>\n",
       "      <td>S32_1374</td>\n",
       "      <td>1997 BMW F650 ST</td>\n",
       "      <td>178</td>\n",
       "      <td>591</td>\n",
       "      <td>a</td>\n",
       "      <td>66.92</td>\n",
       "      <td>3.320225</td>\n",
       "      <td>11911.76</td>\n",
       "      <td>False</td>\n",
       "      <td>True</td>\n",
       "      <td>Understocked</td>\n",
       "    </tr>\n",
       "    <tr>\n",
       "      <th>9</th>\n",
       "      <td>S24_2000</td>\n",
       "      <td>1960 BSA Gold Star DBD34</td>\n",
       "      <td>15</td>\n",
       "      <td>573</td>\n",
       "      <td>a</td>\n",
       "      <td>37.32</td>\n",
       "      <td>38.200000</td>\n",
       "      <td>559.80</td>\n",
       "      <td>False</td>\n",
       "      <td>True</td>\n",
       "      <td>Understocked</td>\n",
       "    </tr>\n",
       "    <tr>\n",
       "      <th>18</th>\n",
       "      <td>S700_3167</td>\n",
       "      <td>F/A 18 Hornet 1/72</td>\n",
       "      <td>551</td>\n",
       "      <td>561</td>\n",
       "      <td>a</td>\n",
       "      <td>54.40</td>\n",
       "      <td>1.018149</td>\n",
       "      <td>29974.40</td>\n",
       "      <td>False</td>\n",
       "      <td>True</td>\n",
       "      <td>Understocked</td>\n",
       "    </tr>\n",
       "    <tr>\n",
       "      <th>21</th>\n",
       "      <td>S32_4289</td>\n",
       "      <td>1928 Ford Phaeton Deluxe</td>\n",
       "      <td>136</td>\n",
       "      <td>557</td>\n",
       "      <td>c</td>\n",
       "      <td>33.02</td>\n",
       "      <td>4.095588</td>\n",
       "      <td>4490.72</td>\n",
       "      <td>False</td>\n",
       "      <td>True</td>\n",
       "      <td>Understocked</td>\n",
       "    </tr>\n",
       "    <tr>\n",
       "      <th>61</th>\n",
       "      <td>S12_1099</td>\n",
       "      <td>1968 Ford Mustang</td>\n",
       "      <td>68</td>\n",
       "      <td>500</td>\n",
       "      <td>b</td>\n",
       "      <td>95.34</td>\n",
       "      <td>7.352941</td>\n",
       "      <td>6483.12</td>\n",
       "      <td>False</td>\n",
       "      <td>True</td>\n",
       "      <td>Understocked</td>\n",
       "    </tr>\n",
       "  </tbody>\n",
       "</table>\n",
       "</div>"
      ],
      "text/plain": [
       "   productCode               productName  quantityInStock  quantity_ordered  \\\n",
       "4     S32_1374          1997 BMW F650 ST              178               591   \n",
       "9     S24_2000  1960 BSA Gold Star DBD34               15               573   \n",
       "18   S700_3167        F/A 18 Hornet 1/72              551               561   \n",
       "21    S32_4289  1928 Ford Phaeton Deluxe              136               557   \n",
       "61    S12_1099         1968 Ford Mustang               68               500   \n",
       "\n",
       "   warehousecode  buyPrice  stock_utilization_ratio  stock_value  \\\n",
       "4              a     66.92                 3.320225     11911.76   \n",
       "9              a     37.32                38.200000       559.80   \n",
       "18             a     54.40                 1.018149     29974.40   \n",
       "21             c     33.02                 4.095588      4490.72   \n",
       "61             b     95.34                 7.352941      6483.12   \n",
       "\n",
       "    is_bottom_quartile  is_top_quartile  Stock_Status  \n",
       "4                False             True  Understocked  \n",
       "9                False             True  Understocked  \n",
       "18               False             True  Understocked  \n",
       "21               False             True  Understocked  \n",
       "61               False             True  Understocked  "
      ]
     },
     "execution_count": 122,
     "metadata": {},
     "output_type": "execute_result"
    }
   ],
   "source": [
    "understocked_products.head()"
   ]
  },
  {
   "cell_type": "code",
   "execution_count": 77,
   "id": "4f76728a-89ec-4327-b200-023f01790b26",
   "metadata": {},
   "outputs": [
    {
     "name": "stderr",
     "output_type": "stream",
     "text": [
      "C:\\Users\\hp\\AppData\\Local\\Temp\\ipykernel_9900\\34085808.py:4: DeprecationWarning: DataFrameGroupBy.apply operated on the grouping columns. This behavior is deprecated, and in a future version of pandas the grouping columns will be excluded from the operation. Either pass `include_groups=False` to exclude the groupings or explicitly select the grouping columns after groupby to silence this warning.\n",
      "  .apply(lambda x: pd.Series({\n"
     ]
    },
    {
     "data": {
      "text/html": [
       "<div>\n",
       "<style scoped>\n",
       "    .dataframe tbody tr th:only-of-type {\n",
       "        vertical-align: middle;\n",
       "    }\n",
       "\n",
       "    .dataframe tbody tr th {\n",
       "        vertical-align: top;\n",
       "    }\n",
       "\n",
       "    .dataframe thead th {\n",
       "        text-align: right;\n",
       "    }\n",
       "</style>\n",
       "<table border=\"1\" class=\"dataframe\">\n",
       "  <thead>\n",
       "    <tr style=\"text-align: right;\">\n",
       "      <th></th>\n",
       "      <th>Warehouse</th>\n",
       "      <th>Total Current Stock Value for Understocked Products</th>\n",
       "      <th>Number of Understocked Products</th>\n",
       "    </tr>\n",
       "  </thead>\n",
       "  <tbody>\n",
       "    <tr>\n",
       "      <th>0</th>\n",
       "      <td>a</td>\n",
       "      <td>42445.96</td>\n",
       "      <td>3.0</td>\n",
       "    </tr>\n",
       "    <tr>\n",
       "      <th>1</th>\n",
       "      <td>b</td>\n",
       "      <td>6483.12</td>\n",
       "      <td>1.0</td>\n",
       "    </tr>\n",
       "    <tr>\n",
       "      <th>2</th>\n",
       "      <td>c</td>\n",
       "      <td>4490.72</td>\n",
       "      <td>1.0</td>\n",
       "    </tr>\n",
       "    <tr>\n",
       "      <th>3</th>\n",
       "      <td>d</td>\n",
       "      <td>13786.20</td>\n",
       "      <td>1.0</td>\n",
       "    </tr>\n",
       "  </tbody>\n",
       "</table>\n",
       "</div>"
      ],
      "text/plain": [
       "  Warehouse  Total Current Stock Value for Understocked Products  \\\n",
       "0         a                                           42445.96     \n",
       "1         b                                            6483.12     \n",
       "2         c                                            4490.72     \n",
       "3         d                                           13786.20     \n",
       "\n",
       "   Number of Understocked Products  \n",
       "0                              3.0  \n",
       "1                              1.0  \n",
       "2                              1.0  \n",
       "3                              1.0  "
      ]
     },
     "execution_count": 77,
     "metadata": {},
     "output_type": "execute_result"
    }
   ],
   "source": [
    "#create summary table\n",
    "summary_understocked = (\n",
    "    understocked_products\n",
    "    .groupby('warehousecode')\n",
    "    .apply(lambda x: pd.Series({\n",
    "        'Total Current Stock Value for Understocked Products': (x['quantityInStock'] * x['buyPrice']).sum(),\n",
    "        'Number of Understocked Products': x.shape[0]\n",
    "    }))\n",
    "    .reset_index()\n",
    "    .rename(columns={'warehousecode': 'Warehouse'})\n",
    ")\n",
    "\n",
    "summary_understocked\n"
   ]
  },
  {
   "cell_type": "markdown",
   "id": "8edae746-d554-4ade-aad5-1c89b959e007",
   "metadata": {},
   "source": [
    "Analysis of understocked inventory reveals a concentrated risk: `$67,206.00` in current stock value is tied to just 6 high-velocity products across the company. Warehouse A is the primary location for these items, holding 3 products valued at `$42,445.96`. The limited number of understocked products in Warehouses B, C, and D (one each) suggests that critical stock-out scenarios are not a systemic issue in these facilities. While understocking does not directly inform consolidation decisions, it underscores areas of high demand requiring immediate replenishment focus for operational continuity, particularly for retained warehouses, and careful planning for critical product transfers during any consolidation."
   ]
  },
  {
   "cell_type": "code",
   "execution_count": 126,
   "id": "2781d002-7958-4364-b8a3-be45bf80dcb4",
   "metadata": {},
   "outputs": [],
   "source": [
    "#create a dataframe to merge both understocked and excess inventory for review \n",
    "\n",
    "low_util_products = low_util_products.copy()\n",
    "understocked_products = understocked_products.copy()\n",
    "\n",
    "# Add a status column\n",
    "low_util_products['Stock_Status'] = 'Overstocked'\n",
    "understocked_products['Stock_Status'] = 'Understocked'\n",
    "\n",
    "# Select the required columns\n",
    "low_util_selected = low_util_products[['productCode', 'productName', 'warehousecode', 'quantity_ordered', 'quantityInStock', 'Stock_Status']]\n",
    "understocked_selected = understocked_products[['productCode', 'productName', 'warehousecode', 'quantity_ordered', 'quantityInStock', 'Stock_Status']]\n",
    "\n",
    "# Combine both\n",
    "stock_risk_table = pd.concat([low_util_selected, understocked_selected])\n",
    "\n",
    "# Reset index\n",
    "stock_risk_table.reset_index(drop=True, inplace=True)\n"
   ]
  },
  {
   "cell_type": "code",
   "execution_count": 80,
   "id": "093963d4-f7e6-43ec-a3f1-0b03b63c037f",
   "metadata": {},
   "outputs": [
    {
     "data": {
      "text/html": [
       "<div>\n",
       "<style scoped>\n",
       "    .dataframe tbody tr th:only-of-type {\n",
       "        vertical-align: middle;\n",
       "    }\n",
       "\n",
       "    .dataframe tbody tr th {\n",
       "        vertical-align: top;\n",
       "    }\n",
       "\n",
       "    .dataframe thead th {\n",
       "        text-align: right;\n",
       "    }\n",
       "</style>\n",
       "<table border=\"1\" class=\"dataframe\">\n",
       "  <thead>\n",
       "    <tr style=\"text-align: right;\">\n",
       "      <th></th>\n",
       "      <th>warehouseCode</th>\n",
       "      <th>median_monthly_revenue</th>\n",
       "      <th>mean_delivery_margin_days</th>\n",
       "      <th>Total Value of Slow-Moving Stock</th>\n",
       "      <th>Warehouse's Total Inventory Value</th>\n",
       "      <th>% of Warehouse Total Inventory Value (Slow-Moving)</th>\n",
       "    </tr>\n",
       "  </thead>\n",
       "  <tbody>\n",
       "    <tr>\n",
       "      <th>0</th>\n",
       "      <td>a</td>\n",
       "      <td>59428.89</td>\n",
       "      <td>4.181278</td>\n",
       "      <td>2122959.28</td>\n",
       "      <td>6664996.94</td>\n",
       "      <td>31.85</td>\n",
       "    </tr>\n",
       "    <tr>\n",
       "      <th>1</th>\n",
       "      <td>b</td>\n",
       "      <td>116763.05</td>\n",
       "      <td>4.820248</td>\n",
       "      <td>6782562.95</td>\n",
       "      <td>14059337.71</td>\n",
       "      <td>48.24</td>\n",
       "    </tr>\n",
       "    <tr>\n",
       "      <th>2</th>\n",
       "      <td>c</td>\n",
       "      <td>55499.83</td>\n",
       "      <td>4.626214</td>\n",
       "      <td>2362160.65</td>\n",
       "      <td>5704259.82</td>\n",
       "      <td>41.41</td>\n",
       "    </tr>\n",
       "    <tr>\n",
       "      <th>3</th>\n",
       "      <td>d</td>\n",
       "      <td>58439.14</td>\n",
       "      <td>4.842561</td>\n",
       "      <td>1283774.60</td>\n",
       "      <td>4105721.76</td>\n",
       "      <td>31.27</td>\n",
       "    </tr>\n",
       "  </tbody>\n",
       "</table>\n",
       "</div>"
      ],
      "text/plain": [
       "  warehouseCode  median_monthly_revenue  mean_delivery_margin_days  \\\n",
       "0             a                59428.89                   4.181278   \n",
       "1             b               116763.05                   4.820248   \n",
       "2             c                55499.83                   4.626214   \n",
       "3             d                58439.14                   4.842561   \n",
       "\n",
       "   Total Value of Slow-Moving Stock  Warehouse's Total Inventory Value  \\\n",
       "0                        2122959.28                         6664996.94   \n",
       "1                        6782562.95                        14059337.71   \n",
       "2                        2362160.65                         5704259.82   \n",
       "3                        1283774.60                         4105721.76   \n",
       "\n",
       "   % of Warehouse Total Inventory Value (Slow-Moving)  \n",
       "0                                              31.85   \n",
       "1                                              48.24   \n",
       "2                                              41.41   \n",
       "3                                              31.27   "
      ]
     },
     "execution_count": 80,
     "metadata": {},
     "output_type": "execute_result"
    }
   ],
   "source": [
    "## merge all metrics into one summary table \n",
    "# Median monthly revenue\n",
    "median_revenue = df.groupby(\"warehouseCode\")[\"monthly_revenue\"].median().reset_index()\n",
    "median_revenue.rename(columns={\"monthly_revenue\": \"median_monthly_revenue\"}, inplace=True)\n",
    "\n",
    "# Mean delivery margin days\n",
    "mean_delivery = df1_filtered.groupby(\"warehouseCode\")[\"delivery_margin_days\"].mean().reset_index()\n",
    "mean_delivery.rename(columns={\"delivery_margin_days\": \"mean_delivery_margin_days\"}, inplace=True)\n",
    "\n",
    "# Slow-moving stock summary\n",
    "slow_value = low_util_products.groupby('warehousecode').agg(\n",
    "    slow_moving_value=('stock_value', 'sum')\n",
    ").reset_index()\n",
    "\n",
    "total_value = df2.groupby('warehousecode').agg(\n",
    "    total_inventory_value=('stock_value', 'sum')\n",
    ").reset_index()\n",
    "\n",
    "slow_summary = pd.merge(slow_value, total_value, on='warehousecode')\n",
    "slow_summary['% of Warehouse Total Inventory Value (Slow-Moving)'] = (\n",
    "    slow_summary['slow_moving_value'] / slow_summary['total_inventory_value']\n",
    ") * 100\n",
    "\n",
    "slow_summary = slow_summary.rename(columns={\n",
    "    'warehousecode': 'warehouseCode',\n",
    "    'slow_moving_value': 'Total Value of Slow-Moving Stock',\n",
    "    'total_inventory_value': \"Warehouse's Total Inventory Value\"\n",
    "}).round(2)\n",
    "\n",
    "# Merge all summaries into one\n",
    "summary_table = (\n",
    "    median_revenue\n",
    "    .merge(mean_delivery, on=\"warehouseCode\")\n",
    "    .merge(slow_summary, on=\"warehouseCode\")\n",
    ")\n",
    "\n",
    "summary_table\n"
   ]
  },
  {
   "cell_type": "markdown",
   "id": "70d8dd9a-b046-418d-b894-1215e4e350cc",
   "metadata": {},
   "source": [
    "#### Reccomendations"
   ]
  },
  {
   "cell_type": "markdown",
   "id": "43a04792-9b2a-4874-8335-4ba25120ba2d",
   "metadata": {},
   "source": [
    "The analysis of warehouse capacity, inventory dynamics, revenue performance, and delivery efficiency has provided a clear picture of operational strengths and opportunities across the network. This section distills those findings into targeted recommendations aimed at optimizing resource utilization, reducing costs, and improving service performance. The proposed next steps outline practical actions to implement these recommendations and guide decision-making for future warehouse management strategies.\n",
    "\n",
    "- Retain Warehouse B (East): This facility is the clear revenue leader, generating more than double the revenue of any other location. Despite a high percentage of overstocked inventory (48.24%),The immediate next step is to implement a targeted plan to reorganize or liquidate its overstocked inventory, which represents the largest single opportunity to free up capital.\n",
    "\n",
    "- Prioritize Warehouse C (West) for Consolidation: This facility is the most underutilized, with 50% available capacity, and generates the lowest revenue. While its delivery performance is strong, these factors make it the prime candidate for closure. The next step is to conduct a detailed assessment of the logistical process for transferring its inventory to other facilities.\n",
    "\n",
    "- Re-evaluate Warehouse A (North): This facility has a high utilization rate (72%) and average revenue,  and average revenue, but its delivery performance is the lowest in the network. A deeper analysis into the root causes of its poor delivery performance is required. A decision on its future should be made after considering whether performance can be improved or if the benefits of consolidation outweigh the challenges of its high utilization.\n",
    "\n",
    "- Warehouse D (South): The performance of Warehouse D is average across all metrics. Its high capacity utilization (75%) suggests it is an efficient, although not exceptional, facility. It should be considered for retention as a stable, secondary facility, especially if warehouses A or C are chosen for consolidation.\n",
    "\n",
    "- Implement a Company-Wide Inventory Optimization Strategy: The analysis shows that overstocked inventory is a systemic issue across the entire network, tying up significant capital. A unified approach is needed to address this."
   ]
  },
  {
   "cell_type": "markdown",
   "id": "4e100037-8ca4-4a44-88ba-f23bda5f3628",
   "metadata": {},
   "source": [
    "This analysis serves as the foundation for an executive report that has been prepared to guide decision-making on the future of Mintclassics warehouse network.\n",
    "[Link to Executive Report](https://public.tableau.com/app/profile/dunni.olu.ajayi/viz/MintclassicsReport/Dashboard3) "
   ]
  }
 ],
 "metadata": {
  "kernelspec": {
   "display_name": "Python [conda env:base] *",
   "language": "python",
   "name": "conda-base-py"
  },
  "language_info": {
   "codemirror_mode": {
    "name": "ipython",
    "version": 3
   },
   "file_extension": ".py",
   "mimetype": "text/x-python",
   "name": "python",
   "nbconvert_exporter": "python",
   "pygments_lexer": "ipython3",
   "version": "3.12.7"
  }
 },
 "nbformat": 4,
 "nbformat_minor": 5
}
